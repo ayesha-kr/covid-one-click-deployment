{
  "metadata": {
    "saveOutput": true,
    "language_info": {
      "name": "python"
    }
  },
  "nbformat": 4,
  "nbformat_minor": 2,
  "cells": [
    {
      "cell_type": "code",
      "execution_count": 4,
      "outputs": [],
      "metadata": {},
      "source": [
        "# Azure storage access info\n",
        "blob_account_name = \"covidtrackingdefinitive\"\n",
        "blob_container_name = \"public\"\n",
        "blob_relative_path = \"curated/covid-19/covid_definitiveHC/latest/covid_tracking.csv\"\n",
        "blob_sas_token = r\"sp=r&st=2020-09-07T07:40:15Z&se=2020-09-08T15:40:15Z&spr=https&sv=2019-12-12&sr=b&sig=%2F1%2FjjFQu5x7A3TC3MLDCDoAddt%2BIUlBeKTb%2FU1yobsI%3D\""
      ],
      "attachments": {}
    },
    {
      "cell_type": "code",
      "execution_count": 5,
      "outputs": [
        {
          "output_type": "execute_result",
          "data": {
            "text/plain": "Remote blob path: wasbs://public@covidtrackingdefinitive.blob.core.windows.net/curated/covid-19/covid_definitiveHC/latest/covid_tracking.csv"
          },
          "execution_count": 5,
          "metadata": {}
        }
      ],
      "metadata": {},
      "source": [
        "# Allow SPARK to read from Blob remotely\n",
        "wasbs_path = 'wasbs://%s@%s.blob.core.windows.net/%s' % (blob_container_name, blob_account_name, blob_relative_path)\n",
        "spark.conf.set(\n",
        "  'fs.azure.sas.%s.%s.blob.core.windows.net' % (blob_container_name, blob_account_name),\n",
        "  blob_sas_token)\n",
        "print('Remote blob path: ' + wasbs_path)"
      ],
      "attachments": {}
    },
    {
      "cell_type": "code",
      "execution_count": 6,
      "outputs": [
        {
          "output_type": "execute_result",
          "data": {
            "text/plain": "Register the DataFrame as a SQL temporary view: source"
          },
          "execution_count": 6,
          "metadata": {}
        }
      ],
      "metadata": {},
      "source": [
        "# SPARK read parquet, note that it won't load any data yet by now\n",
        "df = spark.read.load(wasbs_path, format=\"csv\", inferSchema=\"true\", header=\"true\")\n",
        "print('Register the DataFrame as a SQL temporary view: source')\n",
        "df.createOrReplaceTempView('source')"
      ],
      "attachments": {}
    },
    {
      "cell_type": "code",
      "execution_count": 7,
      "outputs": [
        {
          "output_type": "execute_result",
          "data": {
            "application/json": {
              "table": {
                "rows": [
                  {
                    "Latitude": 33.495,
                    "Row_ID": 1,
                    "Longitude": -112.066,
                    "Fips": 4013,
                    "Load_Time": "08:38:11.861",
                    "State_Fips": 4,
                    "Avg_Ventilator_Usage": 0,
                    "Cnty_Fips": 13,
                    "Hq_State": "AZ",
                    "Num_Icu_Beds": 0,
                    "Num_Staffed_Beds": 62,
                    "Hospital_Type": "VA Hospital",
                    "Hq_Zip_Code": 85012,
                    "Potential_Increase_In_Bed_Capac": 0,
                    "Hospital_Name": "Phoenix VA Health Care System (AKA Carl T Hayden VA Medical Center)",
                    "Num_Licensed_Beds": 62,
                    "County_Name": "Maricopa",
                    "Hq_Address": "650 E Indian School Rd",
                    "State_Name": "Arizona",
                    "Load_Date": "2020-07-16T00:00:00Z",
                    "Adult_Icu_Beds": 0
                  },
                  {
                    "Latitude": 32.181,
                    "Row_ID": 2,
                    "Longitude": -110.966,
                    "Fips": 4019,
                    "Load_Time": "08:38:11.861",
                    "State_Fips": 4,
                    "Avg_Ventilator_Usage": 2,
                    "Cnty_Fips": 19,
                    "Hq_State": "AZ",
                    "Num_Icu_Beds": 2,
                    "Num_Staffed_Beds": 295,
                    "Hospital_Type": "VA Hospital",
                    "Hq_Zip_Code": 85723,
                    "Potential_Increase_In_Bed_Capac": 0,
                    "Hospital_Name": "Southern Arizona VA Health Care System",
                    "Num_Licensed_Beds": 295,
                    "County_Name": "Pima",
                    "Hq_Address": "3601 S 6th Ave",
                    "State_Name": "Arizona",
                    "Load_Date": "2020-07-16T00:00:00Z",
                    "Adult_Icu_Beds": 2
                  },
                  {
                    "Latitude": 36.773,
                    "Row_ID": 3,
                    "Longitude": -119.78,
                    "Fips": 6019,
                    "Load_Time": "08:38:11.861",
                    "State_Fips": 6,
                    "Avg_Ventilator_Usage": 2,
                    "Cnty_Fips": 19,
                    "Hq_State": "CA",
                    "Num_Icu_Beds": 2,
                    "Num_Staffed_Beds": 54,
                    "Hospital_Type": "VA Hospital",
                    "Hq_Zip_Code": 93703,
                    "Potential_Increase_In_Bed_Capac": 0,
                    "Hospital_Name": "VA Central California Health Care System",
                    "Num_Licensed_Beds": 54,
                    "County_Name": "Fresno",
                    "Hq_Address": "2615 E Clinton Ave",
                    "State_Name": "California",
                    "Load_Date": "2020-07-16T00:00:00Z",
                    "Adult_Icu_Beds": 2
                  },
                  {
                    "Latitude": 41.284,
                    "Row_ID": 4,
                    "Longitude": -72.958,
                    "Fips": 9009,
                    "Load_Time": "08:38:11.861",
                    "State_Fips": 9,
                    "Avg_Ventilator_Usage": 2,
                    "Cnty_Fips": 9,
                    "Hq_State": "CT",
                    "Num_Icu_Beds": 1,
                    "Num_Staffed_Beds": 216,
                    "Hospital_Type": "VA Hospital",
                    "Hq_Zip_Code": 6516,
                    "Potential_Increase_In_Bed_Capac": 0,
                    "Hospital_Name": "VA Connecticut Healthcare System - West Haven Campus (AKA West Haven VA Medical Center)",
                    "Num_Licensed_Beds": 216,
                    "County_Name": "New Haven",
                    "Hq_Address": "950 Campbell Ave",
                    "State_Name": "Connecticut",
                    "Load_Date": "2020-07-16T00:00:00Z",
                    "Adult_Icu_Beds": 1
                  },
                  {
                    "Latitude": 39.74,
                    "Row_ID": 5,
                    "Longitude": -75.607,
                    "Fips": 10003,
                    "Load_Time": "08:38:11.861",
                    "State_Fips": 10,
                    "Avg_Ventilator_Usage": 1,
                    "Cnty_Fips": 3,
                    "Hq_State": "DE",
                    "Num_Icu_Beds": 0,
                    "Num_Staffed_Beds": 62,
                    "Hospital_Type": "VA Hospital",
                    "Hq_Zip_Code": 19805,
                    "Potential_Increase_In_Bed_Capac": 0,
                    "Hospital_Name": "Wilmington VA Medical Center",
                    "Num_Licensed_Beds": 62,
                    "County_Name": "New Castle",
                    "Hq_Address": "1601 Kirkwood Hwy",
                    "State_Name": "Delaware",
                    "Load_Date": "2020-07-16T00:00:00Z",
                    "Adult_Icu_Beds": 0
                  },
                  {
                    "Latitude": 38.931,
                    "Row_ID": 6,
                    "Longitude": -77.011,
                    "Fips": 11001,
                    "Load_Time": "08:38:11.861",
                    "State_Fips": 11,
                    "Avg_Ventilator_Usage": 2,
                    "Cnty_Fips": 1,
                    "Hq_State": "DC",
                    "Num_Icu_Beds": 1,
                    "Num_Staffed_Beds": 164,
                    "Hospital_Type": "VA Hospital",
                    "Hq_Zip_Code": 20422,
                    "Potential_Increase_In_Bed_Capac": 0,
                    "Hospital_Name": "Washington DC VA Medical Center",
                    "Num_Licensed_Beds": 164,
                    "County_Name": "District of Columbia",
                    "Hq_Address": "50 Irving St Nw",
                    "State_Name": "District of Columbia",
                    "Load_Date": "2020-07-16T00:00:00Z",
                    "Adult_Icu_Beds": 1
                  },
                  {
                    "Latitude": 29.637,
                    "Row_ID": 7,
                    "Longitude": -82.345,
                    "Fips": 12001,
                    "Load_Time": "08:38:11.861",
                    "State_Fips": 12,
                    "Avg_Ventilator_Usage": 2,
                    "Cnty_Fips": 1,
                    "Hq_State": "FL",
                    "Num_Icu_Beds": 2,
                    "Num_Staffed_Beds": 278,
                    "Hospital_Type": "VA Hospital",
                    "Hq_Zip_Code": 32608,
                    "Potential_Increase_In_Bed_Capac": 154,
                    "Hospital_Name": "North Florida/South Georgia Veterans Health System - Malcom Randall VA Medical Center",
                    "Num_Licensed_Beds": 432,
                    "County_Name": "Alachua",
                    "Hq_Address": "1601 Sw Archer Rd",
                    "State_Name": "Florida",
                    "Load_Date": "2020-07-16T00:00:00Z",
                    "Adult_Icu_Beds": 2
                  },
                  {
                    "Latitude": 43.621,
                    "Row_ID": 8,
                    "Longitude": -116.19,
                    "Fips": 16001,
                    "Load_Time": "08:38:11.861",
                    "State_Fips": 16,
                    "Avg_Ventilator_Usage": 1,
                    "Cnty_Fips": 1,
                    "Hq_State": "ID",
                    "Num_Icu_Beds": 1,
                    "Num_Staffed_Beds": 46,
                    "Hospital_Type": "VA Hospital",
                    "Hq_Zip_Code": 83702,
                    "Potential_Increase_In_Bed_Capac": 0,
                    "Hospital_Name": "Boise VA Medical Center",
                    "Num_Licensed_Beds": 46,
                    "County_Name": "Ada",
                    "Hq_Address": "500 W Fort St",
                    "State_Name": "Idaho",
                    "Load_Date": "2020-07-16T00:00:00Z",
                    "Adult_Icu_Beds": 1
                  },
                  {
                    "Latitude": 32.503,
                    "Row_ID": 9,
                    "Longitude": -93.722,
                    "Fips": 22017,
                    "Load_Time": "08:38:11.861",
                    "State_Fips": 22,
                    "Avg_Ventilator_Usage": 2,
                    "Cnty_Fips": 17,
                    "Hq_State": "LA",
                    "Num_Icu_Beds": 1,
                    "Num_Staffed_Beds": 111,
                    "Hospital_Type": "VA Hospital",
                    "Hq_Zip_Code": 71101,
                    "Potential_Increase_In_Bed_Capac": 0,
                    "Hospital_Name": "Overton Brooks VA Medical Center",
                    "Num_Licensed_Beds": 111,
                    "County_Name": "Caddo",
                    "Hq_Address": "510 E Stoner Ave",
                    "State_Name": "Louisiana",
                    "Load_Date": "2020-07-16T00:00:00Z",
                    "Adult_Icu_Beds": 1
                  },
                  {
                    "Latitude": 32.325,
                    "Row_ID": 10,
                    "Longitude": -90.105,
                    "Fips": 28121,
                    "Load_Time": "08:38:11.861",
                    "State_Fips": 28,
                    "Avg_Ventilator_Usage": 2,
                    "Cnty_Fips": 121,
                    "Hq_State": "MS",
                    "Num_Icu_Beds": 10,
                    "Num_Staffed_Beds": 160,
                    "Hospital_Type": "Short Term Acute Care Hospital",
                    "Hq_Zip_Code": 39232,
                    "Potential_Increase_In_Bed_Capac": 0,
                    "Hospital_Name": "Merit Health River Oaks (FKA River Oaks Hospital - Jackson)",
                    "Num_Licensed_Beds": 160,
                    "Pedi_Icu_Beds": 20,
                    "County_Name": "Rankin",
                    "Hq_Address": "1030 River Oaks Dr",
                    "State_Name": "Mississippi",
                    "Load_Date": "2020-07-16T00:00:00Z",
                    "Bed_Utilization": 0.2963239,
                    "Adult_Icu_Beds": 10
                  }
                ],
                "schema": {
                  "Row_ID": "int",
                  "Load_Date": "int",
                  "Load_Time": "string",
                  "Longitude": "double",
                  "Latitude": "double",
                  "Hospital_Name": "string",
                  "Hospital_Type": "string",
                  "Hq_Address": "string",
                  "Hq_Address1": "string",
                  "Hq_Citystring": "string",
                  "Hq_State": "string",
                  "Hq_Zip_Code": "int",
                  "County_Name": "string",
                  "State_Name": "string",
                  "State_Fips": "int",
                  "Cnty_Fips": "int",
                  "Fips": "int",
                  "Num_Licensed_Beds": "int",
                  "Num_Staffed_Beds": "int",
                  "Num_Icu_Beds": "int",
                  "Adult_Icu_Beds": "int",
                  "Pedi_Icu_Beds": "int",
                  "Bed_Utilization": "double",
                  "Potential_Increase_In_Bed_Capac": "int",
                  "Avg_Ventilator_Usage": "int"
                }
              },
              "isSummary": false,
              "language": "scala"
            }
          },
          "execution_count": 7,
          "metadata": {}
        }
      ],
      "metadata": {
        "diagram": {
          "activateDiagramType": 1,
          "chartConfig": {
            "category": "bar",
            "keys": [
              "Load_Date"
            ],
            "values": [
              "Row_ID"
            ],
            "yLabel": "Row_ID",
            "xLabel": "Load_Date",
            "aggregation": "SUM",
            "aggByBackend": false
          },
          "aggData": "{\"Row_ID\":{\"2020-07-16T00:00:00.000Z\":55}}",
          "isSummary": false,
          "previewData": {
            "filter": null
          },
          "isSql": false
        }
      },
      "source": [
        "# Display top 10 rows\n",
        "print('Displaying top 10 rows: ')\n",
        "display(spark.sql('SELECT * FROM source LIMIT 10'))\n",
        ""
      ],
      "attachments": {}
    },
    {
      "cell_type": "code",
      "execution_count": 8,
      "outputs": [],
      "metadata": {},
      "source": [
        "spark.sql(\"CREATE DATABASE IF NOT EXISTS Covid19\")\n",
        "df.write.mode(\"overwrite\").saveAsTable(\"Covid19.definitiveHealthCare\")"
      ],
      "attachments": {}
    },
    {
      "cell_type": "code",
      "execution_count": 9,
      "outputs": [
        {
          "output_type": "execute_result",
          "data": {
            "application/json": {
              "table": {
                "rows": [
                  {
                    "count(1)": 2000
                  }
                ],
                "schema": {
                  "count(1)": "bigint"
                }
              },
              "isSummary": false,
              "language": "scala"
            }
          },
          "execution_count": 9,
          "metadata": {}
        }
      ],
      "metadata": {
        "diagram": {
          "activateDiagramType": 1,
          "chartConfig": {
            "category": "bar",
            "keys": [],
            "values": [
              "count(1)"
            ],
            "yLabel": "count(1)",
            "xLabel": "",
            "aggregation": "SUM",
            "aggByBackend": false
          },
          "aggData": "{\"count(1)\":{\"\":2000}}",
          "isSummary": false,
          "previewData": {
            "filter": null
          },
          "isSql": false
        }
      },
      "source": [
        "#View the Count of records that have been added to the table.\n",
        "display(spark.sql(\"SELECT count(*) FROM covid19.definitivehealthcare\"))"
      ],
      "attachments": {}
    }
  ]
}